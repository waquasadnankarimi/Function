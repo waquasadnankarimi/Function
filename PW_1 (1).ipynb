{
  "nbformat": 4,
  "nbformat_minor": 0,
  "metadata": {
    "colab": {
      "provenance": []
    },
    "kernelspec": {
      "name": "python3",
      "display_name": "Python 3"
    },
    "language_info": {
      "name": "python"
    }
  },
  "cells": [
    {
      "cell_type": "code",
      "execution_count": null,
      "metadata": {
        "id": "nQXcnvWCFRpe"
      },
      "outputs": [],
      "source": []
    },
    {
      "cell_type": "markdown",
      "source": [
        "(QUESTION -1)  What is Python, and why is it popular?\n",
        "\n",
        "    -Python is a programming language and it's Easy to learn and read.it is poular because easy to learn ,Huge Community,thousands of libraries to save time and versatile.\n",
        "\n",
        "(QUESTION -2) What is an interpreter in Python?\n",
        "\n",
        "    -In Python interpreter is a program that converts Python code line by line into machine-readable instructions and run code.\n",
        "\n",
        "(QUESTION -3) What are pre-defined keywords in Python?\n",
        "\n",
        "    -pre-defined keywords are special reserved words that already have a fixed meaning in the pythan language and cannot use as variable.\n",
        "\n",
        "(QUESTION -4) Can keywords be used as variable names.\n",
        "\n",
        "    -Generally we cannot use reserved keywords words as variable names,\n",
        "\n",
        "(QUESTION -5) What is mutability in Python?\n",
        "\n",
        "    -In Python mutability means value can be add or remove after creating.\n",
        "     EX-LIST\n",
        "(QUESTION -6) Why are lists mutable, but tuples are immutable.\n",
        "\n",
        "    -Lists are mutable because python gives to access list data type implements methods like append(), but in tuples pythan can't gives data type implements methods.\n",
        "(QUESTION -7) What is the difference between “==” and “is” operators in Python.\n",
        "\n",
        "    -In Python, == and \"is\" are both comparison operators but == is use for other purpose \"is\" is used for other purpose\n",
        "    Ex (== Equality Operator) This operator compares the values of two objects.\n",
        "    a=[1,2]\n",
        "    b=[1,2]\n",
        "    print(a==b)\n",
        "    \"is\" (Identity operator)Checks if both variables point to the exact same object in memory.\n",
        "    a = [1, 2, 3]\n",
        "    b = [1, 2, 3]\n",
        "    print(a is b)  # Output: False\n",
        "    c = a\n",
        "    print(a is c)\n",
        "  \n",
        "(QUESTION -8) What are logical operators in Python?\n",
        "\n",
        "    -In Python, logical operators are used to combine conditional statements (True/False).\n",
        "\n",
        "(QUESTION -9) What is type casting in Python.\n",
        "\n",
        "    -Python Type Casting is a process in which we convert a literal of one data type to another data type.\n",
        "    ex a=\"1\" str data  \n",
        "    a=int(a) int data\n",
        "\n",
        "(QUESTION -10) What is the difference between implicit and explicit type casting.\n",
        "\n",
        "    -An implicit type conversion is performed without programmers intervention and An explicit type conversion is user-defined conversion that forces an expression to be of specific type.\n",
        "\n",
        "(QUESTION -11) What is the purpose of conditional statements in Python?\n",
        "\n",
        "    -Conditional statements in Python are used to execute certain blocks of code based on specific conditions. These statements help control the flow of a program.\n",
        "\n",
        "(QUESTION -12) How does the elif statement work.\n",
        "\n",
        "    -In Python elif is short for \"else if\" and is used when the first if statement isn't true, but you want to check for another condition.\n",
        "\n",
        "(QUESTION -13) What is the difference between for and while loops?\n",
        "\n",
        "    -for loop is used for a known fixed number of iterations and while loop is used when the number of iterations is unknown and depends on a dynamic condition.\n",
        "(QUESTION -14) Describe a scenario where a while loop is more suitable than a for loop.\n",
        "\n",
        "    -Explanation of the Scenario\n",
        "    1.Start by initializing a variable to track the number of iterations or the current state (e.g., iteration_count = 0).\n",
        "    2.Set a condition flag (e.g., condition_met = False) that will eventually change when the task is complete (like reaching the end of a file).\n",
        "    3.Use a \"While Loop\" where the loop continues as long as the condition (condition_met) is not satisfied.\n",
        "    4.Within the loop, perform necessary operations, such as reading data or performing computations.\n",
        "    5.After each operation, update the condition or the counter. For example, increase the iteration count by 1 (iteration_count += 1).\n",
        "    6.If at any point the condition for stopping the loop is fulfilled, such as reaching the required number of iterations or detecting the end of data, change the condition flag to break out of the loop (condition_met = True)."
      ],
      "metadata": {
        "id": "Qz449K8uOGTa"
      }
    },
    {
      "cell_type": "code",
      "source": [
        "'''\n",
        "QUESTION-1\n",
        "Write a Python program to print \"Hello, World!\n",
        "'''\n",
        "print(\"hello world\")"
      ],
      "metadata": {
        "colab": {
          "base_uri": "https://localhost:8080/"
        },
        "id": "08KZLtKH5gEN",
        "outputId": "75ce81e5-d473-4aec-ed1f-79ad6c208780"
      },
      "execution_count": 2,
      "outputs": [
        {
          "output_type": "stream",
          "name": "stdout",
          "text": [
            "hello world\n"
          ]
        }
      ]
    },
    {
      "cell_type": "code",
      "source": [
        "'''\n",
        "QUESTION-2\n",
        "Write a Python program that displays your name and age\n",
        "'''\n",
        "name=\"adnan\"\n",
        "age=25\n",
        "print(\"my name is:\",name)\n",
        "print(\"my age is:\",age)"
      ],
      "metadata": {
        "colab": {
          "base_uri": "https://localhost:8080/"
        },
        "id": "m6HNoxD16Thu",
        "outputId": "5f089119-96ff-4867-de80-c8e4e5fa4c3e"
      },
      "execution_count": 3,
      "outputs": [
        {
          "output_type": "stream",
          "name": "stdout",
          "text": [
            "my name is: adnan\n",
            "my age is: 25\n"
          ]
        }
      ]
    },
    {
      "cell_type": "code",
      "source": [
        "'''\n",
        "QUESTION-3\n",
        "Write code to print all the pre-defined keywords in Python using the keyword library\n",
        "'''\n",
        "import keyword\n",
        "print(keyword.kwlist)"
      ],
      "metadata": {
        "colab": {
          "base_uri": "https://localhost:8080/"
        },
        "id": "1IV-EWi57bpb",
        "outputId": "6dd530ff-a665-4a6d-9990-0aba96c658d8"
      },
      "execution_count": 4,
      "outputs": [
        {
          "output_type": "stream",
          "name": "stdout",
          "text": [
            "['False', 'None', 'True', 'and', 'as', 'assert', 'async', 'await', 'break', 'class', 'continue', 'def', 'del', 'elif', 'else', 'except', 'finally', 'for', 'from', 'global', 'if', 'import', 'in', 'is', 'lambda', 'nonlocal', 'not', 'or', 'pass', 'raise', 'return', 'try', 'while', 'with', 'yield']\n"
          ]
        }
      ]
    },
    {
      "cell_type": "code",
      "source": [
        "'''\n",
        "QUESTION-5\n",
        " Create a list and tuple in Python, and demonstrate how attempting to change an element works differently\n",
        "for each\n",
        "'''\n",
        "my_list=[10,20,30]\n",
        "my_list[0]=40\n",
        "print(my_list)"
      ],
      "metadata": {
        "colab": {
          "base_uri": "https://localhost:8080/"
        },
        "id": "I_yxudTGCD-i",
        "outputId": "1a846218-da6a-4260-db14-6397b919bae5"
      },
      "execution_count": 15,
      "outputs": [
        {
          "output_type": "stream",
          "name": "stdout",
          "text": [
            "[40, 20, 30]\n"
          ]
        }
      ]
    },
    {
      "cell_type": "code",
      "source": [
        "'''\n",
        "QUESTION-6\n",
        "Write a function to demonstrate the behavior of mutable and immutable arguments.\n",
        "'''\n",
        "def change(x):\n",
        "  if type(x) ==list:\n",
        "    x.append(99)\n",
        "  else:\n",
        "      x+=99\n",
        "  print(\"Inside:\", x)"
      ],
      "metadata": {
        "id": "JOhXc5AOD-pM"
      },
      "execution_count": 23,
      "outputs": []
    },
    {
      "cell_type": "code",
      "source": [
        "'''\n",
        "QUESTION-7\n",
        "Write a program that performs basic arithmetic operations on two user-input numbers\n",
        "'''\n",
        "a=float(input(\"inter first number: \"))\n",
        "b=float(input(\"inter second number: \"))\n",
        "print(\"Addition:\", a + b)\n",
        "print(\"Subtraction:\", a - b)\n",
        "print(\"Multiplication:\", a * b)\n",
        "if b != 0:\n",
        "  print(\"Division:\", a / b)\n",
        "else:\n",
        "  print(\"Division: Not possible (denominator is zero)\")"
      ],
      "metadata": {
        "colab": {
          "base_uri": "https://localhost:8080/"
        },
        "id": "mesdW2unH5f5",
        "outputId": "4eb2547c-afb2-4d8f-d3f4-d0c92eeea5be"
      },
      "execution_count": 26,
      "outputs": [
        {
          "output_type": "stream",
          "name": "stdout",
          "text": [
            "inter first number: 10\n",
            "inter second number: 5\n",
            "Addition: 15.0\n",
            "Subtraction: 5.0\n",
            "Multiplication: 50.0\n",
            "Division: 2.0\n"
          ]
        }
      ]
    },
    {
      "cell_type": "code",
      "source": [
        "'''\n",
        "QUESTION-8\n",
        "Write a program to demonstrate the use of logical operators.\n",
        "'''\n",
        "x=10\n",
        "y=20\n",
        "print(\"x > 5 and y > 15:\", x > 5 and y > 15)\n",
        "print(\"x > 15 or y > 15:\", x > 15 or y > 15)\n",
        "print(\"not(x > 5):\", not(x > 5))"
      ],
      "metadata": {
        "colab": {
          "base_uri": "https://localhost:8080/"
        },
        "id": "7iIBiY3fKTCM",
        "outputId": "7511122a-899d-41e0-af3f-acf42b7a3c75"
      },
      "execution_count": 27,
      "outputs": [
        {
          "output_type": "stream",
          "name": "stdout",
          "text": [
            "x > 5 and y > 15: True\n",
            "x > 15 or y > 15: True\n",
            "not(x > 5): False\n"
          ]
        }
      ]
    },
    {
      "cell_type": "code",
      "source": [
        "'''\n",
        "QUESTION-9\n",
        "Write a Python program to convert user input from string to integer, float, and boolean types.\n",
        "'''\n",
        "a = input(\"Enter Value: \")\n",
        "int_value = int(a)\n",
        "float_value = float(a)\n",
        "bool_value = bool(a)\n",
        "print(\"As Integer:\", int_value)\n",
        "print(\"As Float:\", float_value)\n",
        "print(\"As Boolean:\", bool_value)"
      ],
      "metadata": {
        "colab": {
          "base_uri": "https://localhost:8080/"
        },
        "id": "AAh57uBBLmhH",
        "outputId": "2dafa1ed-d089-44ba-ec44-f6824e648603"
      },
      "execution_count": 29,
      "outputs": [
        {
          "output_type": "stream",
          "name": "stdout",
          "text": [
            "Enter Value: 5\n",
            "As Integer: 5\n",
            "As Float: 5.0\n",
            "As Boolean: True\n"
          ]
        }
      ]
    },
    {
      "cell_type": "code",
      "source": [
        "'''\n",
        "QUESTION-10\n",
        "Write code to demonstrate type casting with list elements.\n",
        "'''\n",
        "\n",
        "numbers = [\"10\", \"20\", \"30\", \"40\"]\n",
        "print(\"list:\", numbers)\n",
        "int_list = [int(x) for x in numbers]\n",
        "print(\"As Integers:\", int_list)\n",
        "float_list = [float(x) for x in numbers]\n",
        "print(\"As Floats:\", float_list)\n",
        "bool_list = [bool(x) for x in numbers]\n",
        "print(\"As Booleans:\", bool_list)\n"
      ],
      "metadata": {
        "colab": {
          "base_uri": "https://localhost:8080/"
        },
        "id": "SmysNGNDMZD5",
        "outputId": "6c0fc5a9-8e71-4de7-96a6-798bd058ae88"
      },
      "execution_count": 30,
      "outputs": [
        {
          "output_type": "stream",
          "name": "stdout",
          "text": [
            "list: ['10', '20', '30', '40']\n",
            "As Integers: [10, 20, 30, 40]\n",
            "As Floats: [10.0, 20.0, 30.0, 40.0]\n",
            "As Booleans: [True, True, True, True]\n"
          ]
        }
      ]
    },
    {
      "cell_type": "code",
      "source": [
        "'''\n",
        "QUESTION-11\n",
        "Write a program that checks if a number is positive, negative, or zero\n",
        "'''\n",
        "num = float(input(\"Enter a number: \"))\n",
        "\n",
        "if num > 0:\n",
        "    print(\"The number is Positive\")\n",
        "elif num < 0:\n",
        "    print(\"The number is Negative\")\n",
        "else:\n",
        "    print(\"The number is Zero\")\n"
      ],
      "metadata": {
        "colab": {
          "base_uri": "https://localhost:8080/"
        },
        "id": "cP9exKCrOD79",
        "outputId": "77b697af-4753-4cae-bb49-eeccc71d28b0"
      },
      "execution_count": 32,
      "outputs": [
        {
          "output_type": "stream",
          "name": "stdout",
          "text": [
            "Enter a number: 5\n",
            "The number is Positive\n"
          ]
        }
      ]
    },
    {
      "cell_type": "code",
      "source": [
        "'''\n",
        "QUESTION=12\n",
        "Write a for loop to print numbers from 1 to 10.\n",
        "'''\n",
        "# USING WHILE\n",
        "# i = 1\n",
        "# while i <= 10:\n",
        "#     print(i)\n",
        "#     i += 1\n",
        "# USING FOR\n",
        "for i in range(1, 11):\n",
        "    print(i)\n",
        "\n",
        "\n",
        "\n"
      ],
      "metadata": {
        "colab": {
          "base_uri": "https://localhost:8080/"
        },
        "collapsed": true,
        "id": "svzIz0DWOxl5",
        "outputId": "2a6ea736-4d7a-44da-8228-31bcb1696d1f"
      },
      "execution_count": 35,
      "outputs": [
        {
          "output_type": "stream",
          "name": "stdout",
          "text": [
            "1\n",
            "2\n",
            "3\n",
            "4\n",
            "5\n",
            "6\n",
            "7\n",
            "8\n",
            "9\n",
            "10\n"
          ]
        }
      ]
    },
    {
      "cell_type": "code",
      "source": [
        "'''\n",
        "QUESTION-13\n",
        "Write a Python program to find the sum of all even numbers between 1 and 50.\n",
        "'''\n",
        "i = 2\n",
        "total = 0\n",
        "\n",
        "while i <= 50:\n",
        "    total += i\n",
        "    i += 2\n",
        "print(\"Sum of even numbers from 1 to 50 is:\", total)\n"
      ],
      "metadata": {
        "colab": {
          "base_uri": "https://localhost:8080/"
        },
        "id": "SiHjB8rCP_A-",
        "outputId": "2ba9e04e-0b6f-4c3b-c3a5-0e899af4db49"
      },
      "execution_count": 36,
      "outputs": [
        {
          "output_type": "stream",
          "name": "stdout",
          "text": [
            "Sum of even numbers from 1 to 50 is: 650\n"
          ]
        }
      ]
    },
    {
      "cell_type": "code",
      "source": [
        "'''\n",
        "QUESTION-14\n",
        "Write a program to reverse a string using a while loop\n",
        "'''\n",
        "text = input(\"Enter a string: \")\n",
        "rev = \"\"\n",
        "i = len(text) - 1\n",
        "\n",
        "while i >= 0:\n",
        "    rev = rev + text[i]\n",
        "    i -= 1\n",
        "\n",
        "print(\"Reversed:\", rev)\n"
      ],
      "metadata": {
        "colab": {
          "base_uri": "https://localhost:8080/"
        },
        "id": "uZkrkAhfR7tG",
        "outputId": "19f426a4-975a-4c14-fd6c-c0ad1af9a581"
      },
      "execution_count": 37,
      "outputs": [
        {
          "output_type": "stream",
          "name": "stdout",
          "text": [
            "Enter a string: ADNAN KARIMI\n",
            "Reversed: IMIRAK NANDA\n"
          ]
        }
      ]
    },
    {
      "cell_type": "code",
      "source": [
        "'''\n",
        "QUESTION-15\n",
        "Write a Python program to calculate the factorial of a number provided by the user using a while loop.\n",
        "'''\n",
        "num = int(input(\"Enter a number: \"))\n",
        "fact = 1\n",
        "i = 1\n",
        "\n",
        "while i <= num:\n",
        "    fact = fact * i\n",
        "    i += 1\n",
        "\n",
        "print(\"Factorial of\", num, \"is:\", fact)\n",
        "\n"
      ],
      "metadata": {
        "colab": {
          "base_uri": "https://localhost:8080/"
        },
        "id": "fUOOYNL_S1BC",
        "outputId": "18befee9-2f2c-4ace-ff99-83732a789f27"
      },
      "execution_count": 38,
      "outputs": [
        {
          "output_type": "stream",
          "name": "stdout",
          "text": [
            "Enter a number: 5\n",
            "Factorial of 5 is: 120\n"
          ]
        }
      ]
    },
    {
      "cell_type": "code",
      "source": [
        "\n",
        "'''\n",
        "QUESTION-4\n",
        "Write a program that checks if a given word is a Python keyword\n",
        "'''\n",
        "import keyword\n",
        "word=input(\"enter a word:\")\n",
        "if keyword.keyword.iskeyword(word):\n",
        "    print(word,\"is a python keyword\")\n",
        "else:\n",
        "    print(word,\"is not a python keyword\")"
      ],
      "metadata": {
        "id": "81K_QXcSVh8n"
      },
      "execution_count": null,
      "outputs": []
    }
  ]
}